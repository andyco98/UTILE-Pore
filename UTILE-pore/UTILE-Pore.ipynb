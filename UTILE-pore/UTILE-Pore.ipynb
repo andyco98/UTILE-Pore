{
 "cells": [
  {
   "cell_type": "code",
   "execution_count": 1,
   "metadata": {},
   "outputs": [
    {
     "name": "stdout",
     "output_type": "stream",
     "text": [
      "Num GPUs Available:  0\n"
     ]
    }
   ],
   "source": [
    "from threeDprediction import *\n",
    "from threeDprediction_multi import *\n",
    "from pore_analysis import *\n",
    "from visualization import *\n",
    "import os\n",
    "import numpy as np\n",
    "from skimage import io\n",
    "import tensorflow\n",
    "\n",
    "print(\"Num GPUs Available: \", len(tensorflow.config.list_physical_devices('GPU')))"
   ]
  },
  {
   "cell_type": "markdown",
   "metadata": {},
   "source": [
    "# Welcome to the Jupyter Notebook for the utilization of UTILE-Pore\n",
    "\n",
    "With this notebook, you will be guided through the code and make it possible for you to analyze your porous materials tomographies automatically.\n",
    "\n",
    "This notebook should help you to run the automated segmentation of the volumes in your images and afterward to apply the diverse functions to extract the information of interest from your data and visualize the results.\n",
    "\n",
    "Already integrated functions are:\n",
    "\n",
    "GDL/porous material\n",
    "- Pore size distribution analysis of the pores with PoreSpy\n",
    "- Surface roughness calculation\n",
    "- Tortuosity simulation with PoreSpy\n",
    "- Permeability estimation using Kozeny-Carman equation\n",
    "- Calculation of the solid surface ratio\n",
    "\n",
    "\n",
    "For MPL\n",
    "- Layer thickness calculation\n",
    "- MPL crack analsis (ratio, size distribution, etc.)\n",
    "- MPL heatmap for thickness variation\n",
    "- MPL intrusion measurement\n",
    "- MPL and GDL contact surface calculation"
   ]
  },
  {
   "cell_type": "code",
   "execution_count": 2,
   "metadata": {},
   "outputs": [],
   "source": [
    "#Give a name to your project\n",
    "\n",
    "case_name = \"Practice2\"\n",
    "\n",
    "#First, we need to specify the folder where the tomograph slices (or tif stack) are stored\n",
    "\n",
    "image_path= \"C:/Users/andre/Downloads/39bb2_HRNET_HRNET_multi_fusev2_dataset_noaug_-0.6808-23.keras (1).tif\"\n",
    "\n",
    "#MPL?\n",
    "mpl = False\n",
    "#Secondly, we need to specify where is your model stored\n",
    "if mpl == True:\n",
    "    model_path = \"C:/Users/andre/Desktop/Julich/pore/HRNET_HRNET_multi_fusev2_dataset_noaug_-0.6808-23.keras\"\n",
    "    #is the mpl in the top or the bottom of your stack?\n",
    "    mpl_place = 'top'\n",
    "    \n",
    "else:\n",
    "    model_path = \"C:/Users/TEAM-CT/Desktop/UTILE-Pore/models/HRNET_HRNET_fusev2_utile_noaug_-0.5653-12.keras\"\n",
    "\n",
    "#It is also required to create a folder to store the predicted masks\n",
    "os.makedirs(f\"./{case_name}/\", exist_ok=True)\n",
    "\n",
    "# We set the path to the csv file to store all the extracted data\n",
    "csv_file = f'./{case_name}/csv_{case_name}.csv'"
   ]
  },
  {
   "cell_type": "code",
   "execution_count": 3,
   "metadata": {},
   "outputs": [
    {
     "ename": "OSError",
     "evalue": "No file or directory found at C:/Users/TEAM-CT/Desktop/UTILE-Pore/models/HRNET_HRNET_fusev2_utile_noaug_-0.5653-12.keras",
     "output_type": "error",
     "traceback": [
      "\u001b[1;31m---------------------------------------------------------------------------\u001b[0m",
      "\u001b[1;31mOSError\u001b[0m                                   Traceback (most recent call last)",
      "Cell \u001b[1;32mIn[3], line 15\u001b[0m\n\u001b[0;32m     13\u001b[0m     predicted_volume \u001b[38;5;241m=\u001b[39m process_and_predict_multi(input_volume, model_path)\n\u001b[0;32m     14\u001b[0m \u001b[38;5;28;01melse\u001b[39;00m:\n\u001b[1;32m---> 15\u001b[0m     predicted_volume \u001b[38;5;241m=\u001b[39m \u001b[43mprocess_and_predict\u001b[49m\u001b[43m(\u001b[49m\u001b[43minput_volume\u001b[49m\u001b[43m,\u001b[49m\u001b[43m \u001b[49m\u001b[43mmodel_path\u001b[49m\u001b[43m)\u001b[49m\n\u001b[0;32m     16\u001b[0m io\u001b[38;5;241m.\u001b[39mimsave(\u001b[38;5;124mf\u001b[39m\u001b[38;5;124m'\u001b[39m\u001b[38;5;124m./\u001b[39m\u001b[38;5;132;01m{\u001b[39;00mcase_name\u001b[38;5;132;01m}\u001b[39;00m\u001b[38;5;124m/predicted_\u001b[39m\u001b[38;5;132;01m{\u001b[39;00mcase_name\u001b[38;5;132;01m}\u001b[39;00m\u001b[38;5;124m.tif\u001b[39m\u001b[38;5;124m'\u001b[39m, predicted_volume\u001b[38;5;241m.\u001b[39mastype(np\u001b[38;5;241m.\u001b[39muint8))\n",
      "File \u001b[1;32m~\\OneDrive\\Documentos\\GitHub\\UTILE-pores\\UTILE-Pore\\threeDprediction.py:73\u001b[0m, in \u001b[0;36mprocess_and_predict\u001b[1;34m(volume, model, patch_size, overlap, sigma)\u001b[0m\n\u001b[0;32m     71\u001b[0m \u001b[38;5;28;01mdef\u001b[39;00m\u001b[38;5;250m \u001b[39m\u001b[38;5;21mprocess_and_predict\u001b[39m(volume, model, patch_size\u001b[38;5;241m=\u001b[39m\u001b[38;5;241m96\u001b[39m, overlap\u001b[38;5;241m=\u001b[39m\u001b[38;5;241m32\u001b[39m, sigma\u001b[38;5;241m=\u001b[39m\u001b[38;5;241m12\u001b[39m):\n\u001b[0;32m     72\u001b[0m     \u001b[38;5;66;03m# Pad the volume if necessary\u001b[39;00m\n\u001b[1;32m---> 73\u001b[0m     model \u001b[38;5;241m=\u001b[39m \u001b[43mload_model\u001b[49m\u001b[43m(\u001b[49m\u001b[43mmodel\u001b[49m\u001b[43m,\u001b[49m\u001b[43m \u001b[49m\u001b[38;5;28;43mcompile\u001b[39;49m\u001b[43m \u001b[49m\u001b[38;5;241;43m=\u001b[39;49m\u001b[43m \u001b[49m\u001b[38;5;28;43;01mFalse\u001b[39;49;00m\u001b[43m)\u001b[49m\n\u001b[0;32m     74\u001b[0m     depth, height, width \u001b[38;5;241m=\u001b[39m volume\u001b[38;5;241m.\u001b[39mshape\n\u001b[0;32m     75\u001b[0m     pad_depth \u001b[38;5;241m=\u001b[39m (patch_size \u001b[38;5;241m-\u001b[39m depth \u001b[38;5;241m%\u001b[39m patch_size) \u001b[38;5;241m%\u001b[39m patch_size\n",
      "File \u001b[1;32m~\\anaconda3\\envs\\pore\\lib\\site-packages\\keras\\utils\\traceback_utils.py:67\u001b[0m, in \u001b[0;36mfilter_traceback.<locals>.error_handler\u001b[1;34m(*args, **kwargs)\u001b[0m\n\u001b[0;32m     65\u001b[0m \u001b[38;5;28;01mexcept\u001b[39;00m \u001b[38;5;167;01mException\u001b[39;00m \u001b[38;5;28;01mas\u001b[39;00m e:  \u001b[38;5;66;03m# pylint: disable=broad-except\u001b[39;00m\n\u001b[0;32m     66\u001b[0m   filtered_tb \u001b[38;5;241m=\u001b[39m _process_traceback_frames(e\u001b[38;5;241m.\u001b[39m__traceback__)\n\u001b[1;32m---> 67\u001b[0m   \u001b[38;5;28;01mraise\u001b[39;00m e\u001b[38;5;241m.\u001b[39mwith_traceback(filtered_tb) \u001b[38;5;28;01mfrom\u001b[39;00m\u001b[38;5;250m \u001b[39m\u001b[38;5;28;01mNone\u001b[39;00m\n\u001b[0;32m     68\u001b[0m \u001b[38;5;28;01mfinally\u001b[39;00m:\n\u001b[0;32m     69\u001b[0m   \u001b[38;5;28;01mdel\u001b[39;00m filtered_tb\n",
      "File \u001b[1;32m~\\anaconda3\\envs\\pore\\lib\\site-packages\\keras\\saving\\save.py:204\u001b[0m, in \u001b[0;36mload_model\u001b[1;34m(filepath, custom_objects, compile, options)\u001b[0m\n\u001b[0;32m    202\u001b[0m \u001b[38;5;28;01mif\u001b[39;00m \u001b[38;5;28misinstance\u001b[39m(filepath_str, \u001b[38;5;28mstr\u001b[39m):\n\u001b[0;32m    203\u001b[0m   \u001b[38;5;28;01mif\u001b[39;00m \u001b[38;5;129;01mnot\u001b[39;00m tf\u001b[38;5;241m.\u001b[39mio\u001b[38;5;241m.\u001b[39mgfile\u001b[38;5;241m.\u001b[39mexists(filepath_str):\n\u001b[1;32m--> 204\u001b[0m     \u001b[38;5;28;01mraise\u001b[39;00m \u001b[38;5;167;01mIOError\u001b[39;00m(\u001b[38;5;124mf\u001b[39m\u001b[38;5;124m'\u001b[39m\u001b[38;5;124mNo file or directory found at \u001b[39m\u001b[38;5;132;01m{\u001b[39;00mfilepath_str\u001b[38;5;132;01m}\u001b[39;00m\u001b[38;5;124m'\u001b[39m)\n\u001b[0;32m    206\u001b[0m   \u001b[38;5;28;01mif\u001b[39;00m tf\u001b[38;5;241m.\u001b[39mio\u001b[38;5;241m.\u001b[39mgfile\u001b[38;5;241m.\u001b[39misdir(filepath_str):\n\u001b[0;32m    207\u001b[0m     \u001b[38;5;28;01mreturn\u001b[39;00m saved_model_load\u001b[38;5;241m.\u001b[39mload(filepath_str, \u001b[38;5;28mcompile\u001b[39m, options)\n",
      "\u001b[1;31mOSError\u001b[0m: No file or directory found at C:/Users/TEAM-CT/Desktop/UTILE-Pore/models/HRNET_HRNET_fusev2_utile_noaug_-0.5653-12.keras"
     ]
    }
   ],
   "source": [
    "# Now we start with the segmentation of the volume\n",
    "# If you just have a porous materials and need a binary segmentation, run the following lines\n",
    "\n",
    "# input_volume = io.imread('/p/project1/claimd/Andre/Aimy/Dataset/cal_fusev2/test/Toray1202.tif')\n",
    "# predicted_volume = process_and_predict(image_path, model_path)\n",
    "# io.imsave(f'./predicted_{case_name}.tif', predicted_volume.astype(np.uint8))\n",
    "\n",
    "#If you are analyzing a GDL with MPL, then you can run a multiclass semantic segmentation with the following lines:\n",
    "input_volume = io.imread(image_path)\n",
    "if mpl:\n",
    "    if mpl_place != 'top':\n",
    "         input_volume = np.flip(input_volume, axis=0)\n",
    "    predicted_volume = process_and_predict_multi(input_volume, model_path)\n",
    "else:\n",
    "    predicted_volume = process_and_predict(input_volume, model_path)\n",
    "io.imsave(f'./{case_name}/predicted_{case_name}.tif', predicted_volume.astype(np.uint8))"
   ]
  },
  {
   "cell_type": "code",
   "execution_count": 6,
   "metadata": {},
   "outputs": [],
   "source": [
    "# Now, lets visualize the segmented volume\n",
    "predicted_volume = io.imread(image_path)\n",
    "visualize_volume(predicted_volume, case_name, False)"
   ]
  },
  {
   "cell_type": "code",
   "execution_count": 6,
   "metadata": {},
   "outputs": [
    {
     "name": "stdout",
     "output_type": "stream",
     "text": [
      "Porosity: 0.6344364417231323\n"
     ]
    },
    {
     "data": {
      "application/vnd.jupyter.widget-view+json": {
       "model_id": "1f9d261b717e4b57a471c8777c375002",
       "version_major": 2,
       "version_minor": 0
      },
      "text/plain": [
       "  0%|          | 0/25 [00:00<?, ?it/s]"
      ]
     },
     "metadata": {},
     "output_type": "display_data"
    },
    {
     "name": "stdout",
     "output_type": "stream",
     "text": [
      "Sizes shape: (410, 410, 410)\n",
      "Results: ――――――――――――――――――――――――――――――――――――――――――――――――――――――――――――――――――――――――――――――\n",
      "Results of pore_size_distribution generated at Thu Mar 27 17:12:10 2025\n",
      "――――――――――――――――――――――――――――――――――――――――――――――――――――――――――――――――――――――――――――――\n",
      "LogR                      Array of size (10,)\n",
      "pdf                       Array of size (10,)\n",
      "cdf                       Array of size (10,)\n",
      "satn                      Array of size (10,)\n",
      "bin_centers               Array of size (10,)\n",
      "bin_edges                 Array of size (11,)\n",
      "bin_widths                Array of size (10,)\n",
      "――――――――――――――――――――――――――――――――――――――――――――――――――――――――――――――――――――――――――――――\n",
      "Average Pore Size (voxels): 0.6323549063522945\n",
      "Standard Deviation (voxels): 0.5501288380830935\n"
     ]
    }
   ],
   "source": [
    "# We can directly start wiht the property extraction of the porous material or GDL\n",
    "porosity, results, avg_pore, sd = calculate_psd(predicted_volume, csv_file, case_name, voxel_size=1)"
   ]
  },
  {
   "cell_type": "code",
   "execution_count": 5,
   "metadata": {},
   "outputs": [],
   "source": [
    "#Tortuosity simulation (for non-optimized devices can take several hours)\n",
    "tortuosity = 1.85\n",
    "#tortuosity = tortuosity_simulation(predicted_volume, csv_file)"
   ]
  },
  {
   "cell_type": "code",
   "execution_count": 6,
   "metadata": {},
   "outputs": [
    {
     "name": "stdout",
     "output_type": "stream",
     "text": [
      "Surface Area: 228195540.8181501\n",
      "Solid Volume: 1926707750.0\n",
      "SSA:  0.11843806660255043\n",
      "Permeability: 7.089252862092315\n"
     ]
    }
   ],
   "source": [
    "# Having the above mentioned properties, we can estimate the permeability\n",
    "# Estimate permeability\n",
    "ssa = calculate_ssa(predicted_volume)\n",
    "print('SSA: ',ssa)\n",
    "porosity = 0.82\n",
    "k_constant = 50\n",
    "permeability = estimate_permeability(porosity, k_constant, csv_file, ssa, tortuosity)\n",
    "print(f'Permeability: {permeability}')"
   ]
  },
  {
   "cell_type": "code",
   "execution_count": 7,
   "metadata": {},
   "outputs": [
    {
     "name": "stdout",
     "output_type": "stream",
     "text": [
      "[1. 0. 0. ... 9. 9. 8.]\n",
      "Arithmetic Mean Roughness (Ra): 11.329303979873657\n",
      "Root Mean Square Roughness (Rq): 13.25063705444336\n"
     ]
    }
   ],
   "source": [
    "# Then surface roughness calculation of the material\n",
    "#Calculate surface roughness\n",
    "Ra, Rq = calculate_surface_roughness_from_surface(predicted_volume)\n",
    "with open(csv_file, 'a', newline='') as csvfile:\n",
    "        writer = csv.writer(csvfile)\n",
    "        # Write data\n",
    "        writer.writerow(['##### Surface roughness #####'])\n",
    "        writer.writerow(['Arithmetic_Mean_Roughness_(Ra)', Ra])\n",
    "        writer.writerow(['Root_Mean_Square_Roughness_(Rq)', Rq])\n",
    "print(f\"Arithmetic Mean Roughness (Ra): {Ra}\")\n",
    "print(f\"Root Mean Square Roughness (Rq): {Rq}\")\n"
   ]
  },
  {
   "cell_type": "code",
   "execution_count": 8,
   "metadata": {},
   "outputs": [
    {
     "name": "stdout",
     "output_type": "stream",
     "text": [
      "Solid surface ratio: 0.23308763440428057\n"
     ]
    },
    {
     "data": {
      "text/plain": [
       "0.23308763440428057"
      ]
     },
     "execution_count": 8,
     "metadata": {},
     "output_type": "execute_result"
    }
   ],
   "source": [
    "#Calculacte solid surface ratio\n",
    "calculate_solid_surface_ratio(predicted_volume, csv_file, gdl=1, side='bottom')"
   ]
  },
  {
   "cell_type": "code",
   "execution_count": 15,
   "metadata": {},
   "outputs": [
    {
     "name": "stdout",
     "output_type": "stream",
     "text": [
      "MPL avg Thickness 4  voxels\n",
      "GDL avg Thickness 7  voxels\n",
      "Max GDL Thickness 200  microns Max MPL Thickness 90  microns\n"
     ]
    }
   ],
   "source": [
    "# Now we can move to the functions specialized for MPL containing GDLs\n",
    "# We can caluclate the MPL and GDL thickness\n",
    "MPL_GDL_thickness(predicted_volume, csv_file, axis=0, mpl=2, gdl=1)\n"
   ]
  },
  {
   "cell_type": "code",
   "execution_count": 19,
   "metadata": {},
   "outputs": [
    {
     "name": "stdout",
     "output_type": "stream",
     "text": [
      "Crack Ratio: 0.29280567859417517\n",
      "Crack Count: 378\n"
     ]
    }
   ],
   "source": [
    "#Calculate MPL crack analysis\n",
    "crack_ratio, crack_count, crack_labels, crack_sizes, slice_image = MPL_crack_analysis(predicted_volume,case_name, csv_file, from_top=True)\n",
    "print(f\"Crack Ratio: {crack_ratio}\")\n",
    "print(f\"Crack Count: {crack_count}\")\n",
    "#print(f\"Crack Sizes: {crack_sizes}\")\n",
    "plot_crack_labels(slice_image, case_name, crack_labels)\n"
   ]
  },
  {
   "cell_type": "code",
   "execution_count": 7,
   "metadata": {},
   "outputs": [
    {
     "name": "stdout",
     "output_type": "stream",
     "text": [
      "MPL Thickness 30\n",
      "[0. 0. 0. ... 3. 3. 3.]\n",
      "Global Roughness Ra: 4.78726863861084, Rq: 5.517195463180542\n",
      "Standard Deviation of Local Ra: 0.4905248542311615\n",
      "Coefficient of Variation of Local Ra: 0.1024644512895982\n",
      "Average Thickness: 6\n"
     ]
    }
   ],
   "source": [
    "# Example usage:\n",
    "Ra, Rq, Ra_std_dev, Ra_CoV, avg_thickness = MPL_intrusion_roughness(predicted_volume, csv_file, mpl=2, voxel_size=5, from_top=True)\n",
    "print(f\"Global Roughness Ra: {Ra}, Rq: {Rq}\")\n",
    "print(f\"Standard Deviation of Local Ra: {Ra_std_dev}\")\n",
    "print(f\"Coefficient of Variation of Local Ra: {Ra_CoV}\")\n",
    "print(f\"Average Thickness: {avg_thickness}\")"
   ]
  },
  {
   "cell_type": "code",
   "execution_count": 22,
   "metadata": {},
   "outputs": [],
   "source": [
    "# MPL heatmap creation\n",
    "MPL_heatmap(predicted_volume,case_name, 2)"
   ]
  },
  {
   "cell_type": "code",
   "execution_count": 13,
   "metadata": {},
   "outputs": [
    {
     "name": "stdout",
     "output_type": "stream",
     "text": [
      "MPL voxels touching GDL:  789217\n"
     ]
    },
    {
     "data": {
      "text/plain": [
       "789217"
      ]
     },
     "execution_count": 13,
     "metadata": {},
     "output_type": "execute_result"
    }
   ],
   "source": [
    "# Calculate fiber touching MPL voxels\n",
    "MPL_count_touching_voxels(predicted_volume, csv_file, mpl_class=2, fiber_class=1)"
   ]
  },
  {
   "cell_type": "code",
   "execution_count": 21,
   "metadata": {},
   "outputs": [
    {
     "data": {
      "application/vnd.jupyter.widget-view+json": {
       "model_id": "",
       "version_major": 2,
       "version_minor": 0
      },
      "text/plain": [
       "0it [00:00, ?it/s]"
      ]
     },
     "metadata": {},
     "output_type": "display_data"
    },
    {
     "data": {
      "application/vnd.jupyter.widget-view+json": {
       "model_id": "",
       "version_major": 2,
       "version_minor": 0
      },
      "text/plain": [
       "0it [00:00, ?it/s]"
      ]
     },
     "metadata": {},
     "output_type": "display_data"
    },
    {
     "data": {
      "application/vnd.jupyter.widget-view+json": {
       "model_id": "",
       "version_major": 2,
       "version_minor": 0
      },
      "text/plain": [
       "0it [00:00, ?it/s]"
      ]
     },
     "metadata": {},
     "output_type": "display_data"
    },
    {
     "data": {
      "application/vnd.jupyter.widget-view+json": {
       "model_id": "",
       "version_major": 2,
       "version_minor": 0
      },
      "text/plain": [
       "0it [00:00, ?it/s]"
      ]
     },
     "metadata": {},
     "output_type": "display_data"
    },
    {
     "data": {
      "application/vnd.jupyter.widget-view+json": {
       "model_id": "",
       "version_major": 2,
       "version_minor": 0
      },
      "text/plain": [
       "0it [00:00, ?it/s]"
      ]
     },
     "metadata": {},
     "output_type": "display_data"
    },
    {
     "data": {
      "application/vnd.jupyter.widget-view+json": {
       "model_id": "",
       "version_major": 2,
       "version_minor": 0
      },
      "text/plain": [
       "0it [00:00, ?it/s]"
      ]
     },
     "metadata": {},
     "output_type": "display_data"
    },
    {
     "data": {
      "application/vnd.jupyter.widget-view+json": {
       "model_id": "",
       "version_major": 2,
       "version_minor": 0
      },
      "text/plain": [
       "0it [00:00, ?it/s]"
      ]
     },
     "metadata": {},
     "output_type": "display_data"
    },
    {
     "data": {
      "application/vnd.jupyter.widget-view+json": {
       "model_id": "",
       "version_major": 2,
       "version_minor": 0
      },
      "text/plain": [
       "0it [00:00, ?it/s]"
      ]
     },
     "metadata": {},
     "output_type": "display_data"
    },
    {
     "data": {
      "text/html": [
       "<pre style=\"white-space:pre;overflow-x:auto;line-height:normal;font-family:Menlo,'DejaVu Sans Mono',consolas,'Courier New',monospace\"><span style=\"color: #7fbfbf; text-decoration-color: #7fbfbf\">[10:31:34] </span><span style=\"color: #800000; text-decoration-color: #800000\">WARNING </span> Image was cropped to <span style=\"font-weight: bold\">(</span><span style=\"color: #008080; text-decoration-color: #008080; font-weight: bold\">46</span>, <span style=\"color: #008080; text-decoration-color: #008080; font-weight: bold\">1802</span>, <span style=\"color: #008080; text-decoration-color: #008080; font-weight: bold\">1034</span><span style=\"font-weight: bold\">)</span> during watershed                            <a href=\"file://C:\\Users\\a.colliard\\Miniconda3\\envs\\label\\Lib\\site-packages\\porespy\\networks\\_snow2.py\" target=\"_blank\"><span style=\"color: #7f7f7f; text-decoration-color: #7f7f7f\">_snow2.py</span></a><span style=\"color: #7f7f7f; text-decoration-color: #7f7f7f\">:</span><a href=\"file://C:\\Users\\a.colliard\\Miniconda3\\envs\\label\\Lib\\site-packages\\porespy\\networks\\_snow2.py#184\" target=\"_blank\"><span style=\"color: #7f7f7f; text-decoration-color: #7f7f7f\">184</span></a>\n",
       "</pre>\n"
      ],
      "text/plain": [
       "\u001b[2;36m[10:31:34]\u001b[0m\u001b[2;36m \u001b[0m\u001b[31mWARNING \u001b[0m Image was cropped to \u001b[1m(\u001b[0m\u001b[1;36m46\u001b[0m, \u001b[1;36m1802\u001b[0m, \u001b[1;36m1034\u001b[0m\u001b[1m)\u001b[0m during watershed                            \u001b]8;id=63019;file://C:\\Users\\a.colliard\\Miniconda3\\envs\\label\\Lib\\site-packages\\porespy\\networks\\_snow2.py\u001b\\\u001b[2m_snow2.py\u001b[0m\u001b]8;;\u001b\\\u001b[2m:\u001b[0m\u001b]8;id=431256;file://C:\\Users\\a.colliard\\Miniconda3\\envs\\label\\Lib\\site-packages\\porespy\\networks\\_snow2.py#184\u001b\\\u001b[2m184\u001b[0m\u001b]8;;\u001b\\\n"
      ]
     },
     "metadata": {},
     "output_type": "display_data"
    },
    {
     "data": {
      "application/vnd.jupyter.widget-view+json": {
       "model_id": "",
       "version_major": 2,
       "version_minor": 0
      },
      "text/plain": [
       "Extracting pore and throat properties:   0%|          | 0/24988 [00:00<?, ?it/s]"
      ]
     },
     "metadata": {},
     "output_type": "display_data"
    },
    {
     "name": "stdout",
     "output_type": "stream",
     "text": [
      "snow_output saved to ./Practice/snow_Practice.pkl\n"
     ]
    }
   ],
   "source": [
    "# Calculate the pores and throats of the pore structure with the Snow algorithm and save them as a pickle file\n",
    "if mpl == True:\n",
    "    predicted_volume_snow = np.where(predicted_volume==1, 1,0) #Do this to remove the mpl and do the analysis only on the GDL\n",
    "else: predicted_volume_snow = predicted_volume\n",
    "snow_network_from_image(predicted_volume_snow, case_name)"
   ]
  }
 ],
 "metadata": {
  "kernelspec": {
   "display_name": "Python 3 (ipykernel)",
   "language": "python",
   "name": "python3"
  },
  "language_info": {
   "codemirror_mode": {
    "name": "ipython",
    "version": 3
   },
   "file_extension": ".py",
   "mimetype": "text/x-python",
   "name": "python",
   "nbconvert_exporter": "python",
   "pygments_lexer": "ipython3",
   "version": "3.9.0"
  }
 },
 "nbformat": 4,
 "nbformat_minor": 4
}
